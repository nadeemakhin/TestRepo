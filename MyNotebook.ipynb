{
    "cells": [
        {
            "cell_type": "code",
            "execution_count": 1,
            "metadata": {},
            "outputs": [
                {
                    "data": {
                        "text/html": "<div>\n<style scoped>\n    .dataframe tbody tr th:only-of-type {\n        vertical-align: middle;\n    }\n\n    .dataframe tbody tr th {\n        vertical-align: top;\n    }\n\n    .dataframe thead th {\n        text-align: right;\n    }\n</style>\n<table border=\"1\" class=\"dataframe\">\n  <thead>\n    <tr style=\"text-align: right;\">\n      <th></th>\n      <th>Year</th>\n      <th>Transistors</th>\n      <th>Clock (MHz)</th>\n      <th>Power Density (W/cm)</th>\n      <th>Cores</th>\n    </tr>\n  </thead>\n  <tbody>\n    <tr>\n      <th>0</th>\n      <td>1971</td>\n      <td>2300</td>\n      <td>0.74</td>\n      <td>3.750000</td>\n      <td>1</td>\n    </tr>\n    <tr>\n      <th>1</th>\n      <td>1974</td>\n      <td>4500</td>\n      <td>2.00</td>\n      <td>3.900000</td>\n      <td>1</td>\n    </tr>\n    <tr>\n      <th>2</th>\n      <td>1976</td>\n      <td>6500</td>\n      <td>3.00</td>\n      <td>4.450000</td>\n      <td>1</td>\n    </tr>\n    <tr>\n      <th>3</th>\n      <td>1978</td>\n      <td>29000</td>\n      <td>5.00</td>\n      <td>5.666667</td>\n      <td>1</td>\n    </tr>\n    <tr>\n      <th>4</th>\n      <td>1979</td>\n      <td>29000</td>\n      <td>5.00</td>\n      <td>5.151515</td>\n      <td>1</td>\n    </tr>\n  </tbody>\n</table>\n</div>",
                        "text/plain": "   Year  Transistors  Clock (MHz)  Power Density (W/cm)  Cores\n0  1971         2300         0.74              3.750000      1\n1  1974         4500         2.00              3.900000      1\n2  1976         6500         3.00              4.450000      1\n3  1978        29000         5.00              5.666667      1\n4  1979        29000         5.00              5.151515      1"
                    },
                    "execution_count": 1,
                    "metadata": {},
                    "output_type": "execute_result"
                }
            ],
            "source": "# The code was removed by Watson Studio for sharing."
        },
        {
            "cell_type": "code",
            "execution_count": null,
            "metadata": {},
            "outputs": [],
            "source": ""
        }
    ],
    "metadata": {
        "kernelspec": {
            "display_name": "Python 3.6",
            "language": "python",
            "name": "python3"
        },
        "language_info": {
            "codemirror_mode": {
                "name": "ipython",
                "version": 3
            },
            "file_extension": ".py",
            "mimetype": "text/x-python",
            "name": "python",
            "nbconvert_exporter": "python",
            "pygments_lexer": "ipython3",
            "version": "3.6.9"
        }
    },
    "nbformat": 4,
    "nbformat_minor": 1
}